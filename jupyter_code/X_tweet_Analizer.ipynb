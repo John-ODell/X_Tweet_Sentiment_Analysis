{
 "cells": [
  {
   "cell_type": "markdown",
   "id": "55abb31d",
   "metadata": {},
   "source": [
    "# For a customized twitter/other social media automated responses, please email johncodell@outlook.com. "
   ]
  },
  {
   "cell_type": "code",
   "execution_count": 1,
   "id": "d954f5e0",
   "metadata": {},
   "outputs": [],
   "source": [
    "from transformers import AutoTokenizer, AutoModelForSequenceClassification\n",
    "from scipy.special import softmax\n",
    "from openai import OpenAI"
   ]
  },
  {
   "cell_type": "code",
   "execution_count": 2,
   "id": "5b1d3138",
   "metadata": {},
   "outputs": [],
   "source": [
    "tweet = \"@marshemllowman they should just duke it out on the course, its getting a little crazy now 🙃 but the memes have been top noch 🤣🤣🤣 #toogood #helpme\""
   ]
  },
  {
   "cell_type": "code",
   "execution_count": 3,
   "id": "53292d1d",
   "metadata": {},
   "outputs": [],
   "source": [
    "tw=[]"
   ]
  },
  {
   "cell_type": "code",
   "execution_count": 4,
   "id": "50aaec00",
   "metadata": {},
   "outputs": [],
   "source": [
    "for word in tweet.split(' '):\n",
    "    if word.startswith('@') and len(word)>1:\n",
    "        word = '@user'\n",
    "    elif word.startswith('#'):\n",
    "        word = ''\n",
    "    elif word.startswith('http'):\n",
    "        word = \"http\"\n",
    "    tw.append(word)\n",
    "ptw = \" \".join(tw)"
   ]
  },
  {
   "cell_type": "code",
   "execution_count": 5,
   "id": "49495adc",
   "metadata": {},
   "outputs": [
    {
     "name": "stdout",
     "output_type": "stream",
     "text": [
      "@user they should just duke it out on the course, its getting a little crazy now 🙃 but the memes have been top noch 🤣🤣🤣  \n"
     ]
    }
   ],
   "source": [
    "print(ptw)"
   ]
  },
  {
   "cell_type": "code",
   "execution_count": 6,
   "id": "848297b2",
   "metadata": {},
   "outputs": [],
   "source": [
    "roberta=\"cardiffnlp/twitter-roberta-base-sentiment\""
   ]
  },
  {
   "cell_type": "code",
   "execution_count": 7,
   "id": "afd59184",
   "metadata": {},
   "outputs": [
    {
     "name": "stderr",
     "output_type": "stream",
     "text": [
      "C:\\Users\\johnc\\anaconda3\\Lib\\site-packages\\transformers\\utils\\generic.py:260: UserWarning: torch.utils._pytree._register_pytree_node is deprecated. Please use torch.utils._pytree.register_pytree_node instead.\n",
      "  torch.utils._pytree._register_pytree_node(\n"
     ]
    }
   ],
   "source": [
    "model = AutoModelForSequenceClassification.from_pretrained(roberta)"
   ]
  },
  {
   "cell_type": "code",
   "execution_count": 8,
   "id": "759fbd36",
   "metadata": {},
   "outputs": [],
   "source": [
    "tokenizer = AutoTokenizer.from_pretrained(roberta)"
   ]
  },
  {
   "cell_type": "code",
   "execution_count": 9,
   "id": "6b0fa48d",
   "metadata": {},
   "outputs": [],
   "source": [
    "labels = ['Negative','Nuetral','Positive']"
   ]
  },
  {
   "cell_type": "code",
   "execution_count": 10,
   "id": "ade63b91",
   "metadata": {},
   "outputs": [],
   "source": [
    "encoded_tweet = tokenizer(ptw, return_tensors='pt')"
   ]
  },
  {
   "cell_type": "code",
   "execution_count": 11,
   "id": "f0ceae89",
   "metadata": {},
   "outputs": [],
   "source": [
    "output=model(**encoded_tweet)"
   ]
  },
  {
   "cell_type": "code",
   "execution_count": 12,
   "id": "ec888046",
   "metadata": {},
   "outputs": [],
   "source": [
    "scores=output[0][0].detach().numpy()\n",
    "scores=softmax(scores)"
   ]
  },
  {
   "cell_type": "code",
   "execution_count": 13,
   "id": "225f120a",
   "metadata": {},
   "outputs": [
    {
     "name": "stdout",
     "output_type": "stream",
     "text": [
      "Negative 0.4402511\n",
      "Nuetral 0.40437254\n",
      "Positive 0.15537643\n"
     ]
    }
   ],
   "source": [
    "for i in range(len(scores)):\n",
    "    l= labels[i]\n",
    "    s= scores[i]\n",
    "    print(l,s)"
   ]
  },
  {
   "cell_type": "code",
   "execution_count": null,
   "id": "b31ab2e1",
   "metadata": {},
   "outputs": [],
   "source": [
    "client = OpenAI(\n",
    "    api_key = \"Your_Open_Ai_Key\")"
   ]
  },
  {
   "cell_type": "code",
   "execution_count": 15,
   "id": "51f85927",
   "metadata": {},
   "outputs": [],
   "source": [
    "prompt = \"Rephrase this tweet more positivly,\"+tweet"
   ]
  },
  {
   "cell_type": "code",
   "execution_count": 16,
   "id": "04014294",
   "metadata": {},
   "outputs": [],
   "source": [
    "chat_completion = client.chat.completions.create(\n",
    "    messages=[{\n",
    "        \"role\":\"user\",\n",
    "        \"content\":prompt\n",
    "    }],\n",
    "    model=\"gpt-4o-mini\"\n",
    ")"
   ]
  },
  {
   "cell_type": "code",
   "execution_count": 17,
   "id": "4626d27d",
   "metadata": {},
   "outputs": [
    {
     "name": "stdout",
     "output_type": "stream",
     "text": [
      "@marshemllowman Why not settle it on the course? It's getting quite entertaining! 🙃 Plus, the memes have been absolutely hilarious! 🤣🤣🤣 #toogood #helpme\n"
     ]
    }
   ],
   "source": [
    "print(chat_completion.choices[0].message.content)"
   ]
  }
 ],
 "metadata": {
  "kernelspec": {
   "display_name": "Python 3 (ipykernel)",
   "language": "python",
   "name": "python3"
  },
  "language_info": {
   "codemirror_mode": {
    "name": "ipython",
    "version": 3
   },
   "file_extension": ".py",
   "mimetype": "text/x-python",
   "name": "python",
   "nbconvert_exporter": "python",
   "pygments_lexer": "ipython3",
   "version": "3.11.5"
  }
 },
 "nbformat": 4,
 "nbformat_minor": 5
}
